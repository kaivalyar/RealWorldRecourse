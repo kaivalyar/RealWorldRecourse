{
 "cells": [
  {
   "cell_type": "markdown",
   "metadata": {},
   "source": [
    "# Recourse for the Real World: Learning Feature Modification Costs from Pairwise Comparison Data\n",
    "\n",
    "#### Kaivalya Rawal\n",
    "\n",
    "Link to Paper: [Recourse for the Real World](arxive.org)\n",
    "\n",
    "This notebook contains the code and simulations associated with the paper [Recourse for Humans](https://participatoryml.github.io/#49), presented at the Participatory Approaches to ML workshop, ICML 2020"
   ]
  },
  {
   "cell_type": "code",
   "execution_count": 1,
   "metadata": {},
   "outputs": [],
   "source": [
    "import random\n",
    "import numpy as np\n",
    "from BradleyTerry import *\n",
    "import time"
   ]
  },
  {
   "cell_type": "code",
   "execution_count": 2,
   "metadata": {},
   "outputs": [
    {
     "name": "stdout",
     "output_type": "stream",
     "text": [
      "{'f1': 0.13436424411240122, 'f2': 0.8474337369372327, 'f3': 0.763774618976614, 'f4': 0.2550690257394217, 'f5': 0.49543508709194095}\n",
      "[0.13436424 0.84743374 0.76377462 0.25506903 0.49543509]\n",
      "[0.26915087 1.69753144 1.52995021 0.51093988 0.99242761]\n",
      "[1.00972765 0.96670548 0.97291542 1.00243757 1.05043492]\n",
      "[1.00927932 0.96627625 0.97248344 1.00199248 1.04996851]\n"
     ]
    }
   ],
   "source": [
    "def get_features(n=5):\n",
    "    feats = []\n",
    "    for i in range(n):\n",
    "        feats.append('f'+str(i+1))\n",
    "    return feats\n",
    "\n",
    "def gen_strengths(features):\n",
    "    return {feature: random.random() for feature in features}\n",
    "\n",
    "def gen_comp(f1, f2, s1, s2):\n",
    "    if random.random() < abs(s1 - s2):\n",
    "        f1, f2 = f2, f1\n",
    "    return '{} > {}\\n'.format(f1, f2)\n",
    "\n",
    "def gen_min_comps(filename, features):# unused funtion\n",
    "    with open(filename, 'w') as f:\n",
    "        for feat1 in features:\n",
    "            for feat2 in features:\n",
    "                if feat1 != feat2:\n",
    "                    f.write('{} > {}\\n'.format(feat1, feat2))\n",
    "\n",
    "def add_comps(filename, features, n=None, rs=1):\n",
    "    if n is None:\n",
    "        n = len(features) * 50\n",
    "    n = int(n/(rs*rs))\n",
    "    feature_names = list(features.keys())\n",
    "    with open(filename, 'w') as of:\n",
    "        for _ in range(n):\n",
    "            r1and2 = random.choices(feature_names, k=rs*2)\n",
    "            r1 = r1and2[:rs]\n",
    "            r2 = r1and2[rs:]\n",
    "            c1 = 0\n",
    "            for f in r1:\n",
    "                c1 += features[f]\n",
    "            c2 = 0\n",
    "            for f in r2:\n",
    "                c2 += features[f]\n",
    "            c1 /= rs\n",
    "            c2 /= rs\n",
    "            for f1 in r1:\n",
    "                for f2 in r2:\n",
    "                    of.write(gen_comp(f1, f2, c1, c2))\n",
    "\n",
    "def populate(nfeats, fname, ncomps=100, rs=1, verbose=False):\n",
    "    fts = get_features(nfeats)\n",
    "    st = gen_strengths(fts)\n",
    "    #gen_min_comps('./data/{}-survey.txt'.format(dataset), st)\n",
    "    if verbose:\n",
    "        print(st)\n",
    "    add_comps('./data/{}-survey.txt'.format(fname), st, n=len(st)*ncomps, rs=rs)\n",
    "    return fts, st\n",
    "\n",
    "def extract(features, fname, verbose=False):\n",
    "    data = FeatureSet(features)\n",
    "    data.fit('./data/{}-survey.txt'.format(fname))\n",
    "    if verbose:\n",
    "        print(data)\n",
    "    result = []\n",
    "    for feat in data.features:\n",
    "        result.append(feat.strength)\n",
    "    return result\n",
    "\n",
    "def main(params = 5, factor=100, rs=1, verbose=False):\n",
    "    random.seed(1)\n",
    "    fts, st = populate(params, 'synthetic', ncomps=factor, rs=rs)\n",
    "    gst = np.array([st[ft] for ft in fts])\n",
    "    n_gst = gst*params / np.sum(gst)\n",
    "    if verbose:\n",
    "        print(st)\n",
    "        print(gst)\n",
    "        print(n_gst)\n",
    "    ist = np.array(extract(fts, 'synthetic'))\n",
    "    n_ist = ist*params / np.sum(ist)\n",
    "    if verbose:\n",
    "        print(ist)\n",
    "        print(n_ist)\n",
    "    err = (n_gst - n_ist)\n",
    "    return((np.mean(err ** 2)))\n",
    "\n",
    "\n",
    "if __name__ == '__main__':\n",
    "    main(factor=500, verbose=True) # sanity check"
   ]
  },
  {
   "cell_type": "code",
   "execution_count": 3,
   "metadata": {},
   "outputs": [],
   "source": [
    "def simulate(n_features, n_samples, recourse_size):\n",
    "    start = time.time()\n",
    "    result = main(params=n_features, factor=n_samples, rs=recourse_size)\n",
    "    return result, time.time()-start"
   ]
  },
  {
   "cell_type": "markdown",
   "metadata": {},
   "source": [
    "To simulate the generation and retrieval of Bradley-Terry parameters, call the simulate function with appropriate parameters."
   ]
  },
  {
   "cell_type": "code",
   "execution_count": 6,
   "metadata": {},
   "outputs": [
    {
     "data": {
      "text/plain": [
       "(0.4088780733631775, 0.2900369167327881)"
      ]
     },
     "execution_count": 6,
     "metadata": {},
     "output_type": "execute_result"
    }
   ],
   "source": [
    "# example:\n",
    "simulate(10, 200, 2)"
   ]
  },
  {
   "cell_type": "markdown",
   "metadata": {},
   "source": [
    "So we can see that for a model with 10 features, when 200 comparisons are used in the survey, and each surveyed recourse has a size of 2 (ie 2 features are modified simultaneously by every recourse), then the MSE in parameter retrieval is 0.4, and it takes 0.3 seconds to compute this."
   ]
  }
 ],
 "metadata": {
  "kernelspec": {
   "display_name": "Python 3",
   "language": "python",
   "name": "python3"
  },
  "language_info": {
   "codemirror_mode": {
    "name": "ipython",
    "version": 3
   },
   "file_extension": ".py",
   "mimetype": "text/x-python",
   "name": "python",
   "nbconvert_exporter": "python",
   "pygments_lexer": "ipython3",
   "version": "3.7.3"
  }
 },
 "nbformat": 4,
 "nbformat_minor": 2
}
